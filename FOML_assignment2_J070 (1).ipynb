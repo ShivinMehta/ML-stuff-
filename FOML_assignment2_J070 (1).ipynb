{
 "cells": [
  {
   "cell_type": "code",
   "execution_count": 1,
   "id": "db49bba6",
   "metadata": {},
   "outputs": [],
   "source": [
    "import numpy as np\n",
    "import pandas as pd\n",
    "import matplotlib.pyplot as plt \n",
    "\n",
    "import sklearn.linear_model as lm\n"
   ]
  },
  {
   "cell_type": "code",
   "execution_count": 2,
   "id": "62499ea4",
   "metadata": {},
   "outputs": [
    {
     "name": "stdout",
     "output_type": "stream",
     "text": [
      "-1.7804878048780486\n",
      "[-0.01219512  1.30487805]\n"
     ]
    }
   ],
   "source": [
    "x = np.array([[1,3], [6,4], [7,6], [9,8]])\n",
    "y = np.array([2, 3, 7, 8])\n",
    "reg=lm.LinearRegression()\n",
    "reg.fit(x,y)\n",
    "print(reg.intercept_)\n",
    "print(reg.coef_)\n"
   ]
  },
  {
   "cell_type": "code",
   "execution_count": 10,
   "id": "2716f20b",
   "metadata": {},
   "outputs": [],
   "source": [
    "def pujanJ070(x,y,epoch=10000):\n",
    "    y=y.reshape(-1,1)\n",
    "    lr=.01\n",
    "    m=x.shape[0]\n",
    "    nx=x.shape[1]\n",
    "    w=np.random.rand(nx+1,1)\n",
    "    \n",
    "    x=np.concatenate((np.ones((m,1)),x),axis=1)\n",
    "    for i in range(epoch):\n",
    "    \n",
    "        h=np.dot(x,w)\n",
    "        error=h-y\n",
    "        cost=np.dot(error.T,error)/(2*m)\n",
    "        dw=np.dot(x.T,error)/m\n",
    "        w= w - lr*dw\n",
    "        \n",
    "    return w\n"
   ]
  },
  {
   "cell_type": "code",
   "execution_count": 11,
   "id": "e34db2f8",
   "metadata": {},
   "outputs": [
    {
     "data": {
      "text/plain": [
       "array([[-1.78033112],\n",
       "       [-0.01217832],\n",
       "       [ 1.30483263]])"
      ]
     },
     "execution_count": 11,
     "metadata": {},
     "output_type": "execute_result"
    }
   ],
   "source": [
    "x = np.array([[1,3], [6,4], [7,6], [9,8]])\n",
    "y = np.array([2, 3, 7, 8])\n",
    "pujanJ070(x,y)"
   ]
  }
 ],
 "metadata": {
  "kernelspec": {
   "display_name": "Python 3 (ipykernel)",
   "language": "python",
   "name": "python3"
  },
  "language_info": {
   "codemirror_mode": {
    "name": "ipython",
    "version": 3
   },
   "file_extension": ".py",
   "mimetype": "text/x-python",
   "name": "python",
   "nbconvert_exporter": "python",
   "pygments_lexer": "ipython3",
   "version": "3.9.7"
  }
 },
 "nbformat": 4,
 "nbformat_minor": 5
}

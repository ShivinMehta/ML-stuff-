{
 "cells": [
  {
   "cell_type": "code",
   "execution_count": 1,
   "id": "6ed2553f",
   "metadata": {},
   "outputs": [
    {
     "name": "stdout",
     "output_type": "stream",
     "text": [
      "0.1314068309944138 0.7088111900126931\n"
     ]
    },
    {
     "data": {
      "text/plain": [
       "[<matplotlib.lines.Line2D at 0x21ccc5fb610>]"
      ]
     },
     "execution_count": 1,
     "metadata": {},
     "output_type": "execute_result"
    },
    {
     "data": {
      "image/png": "[encoded data removed]",
      "text/plain": [
       "<Figure size 432x288 with 1 Axes>"
      ]
     },
     "metadata": {
      "needs_background": "light"
     },
     "output_type": "display_data"
    }
   ],
   "source": [
    "import numpy as np\n",
    "import matplotlib.pyplot as plt\n",
    "x=np.array([0,0.22,0.58,0.2,0.55,0.39,0.54,0.53,1,0.61])\n",
    "y=np.array([0,0.22,0.24,0.33,0.37,0.44,0.44,0.57,0.93,1])\n",
    "#for making 1000 iterations\n",
    "epoch=1000\n",
    "theta0=0.35\n",
    "theta1=0.65\n",
    "lr=0.01\n",
    "cost_hist1=[]\n",
    "for i in range(epoch):\n",
    "    m=float(len(x))\n",
    "\n",
    "    h=theta0+(theta1*x)\n",
    "\n",
    "    cost=(1/2*m)*(sum(h-y)**2)\n",
    "\n",
    "    dtheta0=(1/m)*sum(h-y)\n",
    "    dtheta1=(1/m)*sum((h-y)*x)\n",
    "\n",
    "    theta0=theta0-(lr*dtheta0)\n",
    "    theta1=theta1-(lr*dtheta1)\n",
    "\n",
    "    cost_hist1.append(cost)\n",
    "    cost_hist2=np.array(cost_hist1)\n",
    "print(theta0,theta1)\n",
    "plt.plot(cost_hist2)\n"
   ]
  },
  {
   "cell_type": "code",
   "execution_count": 2,
   "id": "0e8a16cf",
   "metadata": {},
   "outputs": [],
   "source": [
    "theta0=0.35\n",
    "theta1=0.65\n",
    "lr=0.01\n",
    "cost_hist1=[]\n",
    "m=float(len(x))\n",
    "\n",
    "def GD(x,y,lr=0.01,epoch=30):\n",
    "    for i in range(epoch):\n",
    "        m=float(len(x))\n",
    "        h=theta0+(theta1*x)\n",
    "        cost=(1/2*m)*(sum(h-y)**2)\n",
    "        dtheta0=(1/m)*sum(h-y)\n",
    "        dtheta1=(1/m)*sum((h-y)*x)\n",
    "        if i%10==0:\n",
    "            print(f\"cost1:{cost}\\t iteration:{i}\")\n",
    "        theta0=theta0-(lr*dtheta0)\n",
    "        theta1=theta1-(lr*dtheta1)\n",
    "        cost_hist1.append(cost)\n",
    "        cost_hist2=np.array(cost_hist1)\n",
    "        plt.plot(cost_hist2)\n",
    "        return theta0,theta1\n",
    "    \n",
    "\n",
    "            \n",
    "    "
   ]
  },
  {
   "cell_type": "code",
   "execution_count": 3,
   "id": "31d9ec4b",
   "metadata": {},
   "outputs": [],
   "source": [
    "x=np.array([0,0.22,0.58,0.2,0.55,0.39,0.54,0.53,1,0.61])\n",
    "y=np.array([0,0.22,0.24,0.33,0.37,0.44,0.44,0.57,0.93,1])"
   ]
  },
  {
   "cell_type": "code",
   "execution_count": 10,
   "id": "afd80c4d",
   "metadata": {
    "scrolled": false
   },
   "outputs": [
    {
     "name": "stdout",
     "output_type": "stream",
     "text": [
      "Cost:  [0.99593209]  iteration:  0\n",
      "Cost:  [0.94676325]  iteration:  1\n",
      "Cost:  [0.90107506]  iteration:  2\n",
      "Cost:  [0.85858855]  iteration:  3\n",
      "Cost:  [0.81904815]  iteration:  4\n",
      "Cost:  [0.78221978]  iteration:  5\n",
      "Cost:  [0.74788895]  iteration:  6\n",
      "Cost:  [0.71585912]  iteration:  7\n",
      "Cost:  [0.68595014]  iteration:  8\n",
      "Cost:  [0.65799691]  iteration:  9\n",
      "Cost:  [0.63184804]  iteration:  10\n",
      "Cost:  [0.60736469]  iteration:  11\n",
      "Cost:  [0.58441954]  iteration:  12\n",
      "Cost:  [0.56289579]  iteration:  13\n",
      "Cost:  [0.54268624]  iteration:  14\n",
      "Cost:  [0.52369253]  iteration:  15\n",
      "Cost:  [0.50582433]  iteration:  16\n",
      "Cost:  [0.48899872]  iteration:  17\n",
      "Cost:  [0.47313952]  iteration:  18\n",
      "Cost:  [0.45817672]  iteration:  19\n",
      "Cost:  [0.444046]  iteration:  20\n",
      "Cost:  [0.43068821]  iteration:  21\n",
      "Cost:  [0.41804895]  iteration:  22\n",
      "Cost:  [0.40607816]  iteration:  23\n",
      "Cost:  [0.39472978]  iteration:  24\n",
      "Cost:  [0.38396139]  iteration:  25\n",
      "Cost:  [0.37373392]  iteration:  26\n",
      "Cost:  [0.36401134]  iteration:  27\n",
      "Cost:  [0.35476048]  iteration:  28\n",
      "Cost:  [0.34595069]  iteration:  29\n",
      "Cost:  [0.33755371]  iteration:  30\n",
      "Cost:  [0.32954345]  iteration:  31\n",
      "Cost:  [0.3218958]  iteration:  32\n",
      "Cost:  [0.31458847]  iteration:  33\n",
      "Cost:  [0.30760084]  iteration:  34\n",
      "Cost:  [0.30091383]  iteration:  35\n",
      "Cost:  [0.29450978]  iteration:  36\n",
      "Cost:  [0.28837231]  iteration:  37\n",
      "Cost:  [0.28248623]  iteration:  38\n",
      "Cost:  [0.27683745]  iteration:  39\n",
      "Cost:  [0.27141289]  iteration:  40\n",
      "Cost:  [0.26620038]  iteration:  41\n",
      "Cost:  [0.26118862]  iteration:  42\n",
      "Cost:  [0.25636707]  iteration:  43\n",
      "Cost:  [0.25172593]  iteration:  44\n",
      "Cost:  [0.24725605]  iteration:  45\n",
      "Cost:  [0.2429489]  iteration:  46\n",
      "Cost:  [0.23879651]  iteration:  47\n",
      "Cost:  [0.23479142]  iteration:  48\n",
      "Cost:  [0.23092668]  iteration:  49\n",
      "Cost:  [0.22719575]  iteration:  50\n",
      "Cost:  [0.22359251]  iteration:  51\n",
      "Cost:  [0.22011122]  iteration:  52\n",
      "Cost:  [0.21674649]  iteration:  53\n",
      "Cost:  [0.21349326]  iteration:  54\n",
      "Cost:  [0.21034676]  iteration:  55\n",
      "Cost:  [0.20730249]  iteration:  56\n",
      "Cost:  [0.20435623]  iteration:  57\n",
      "Cost:  [0.20150398]  iteration:  58\n",
      "Cost:  [0.19874196]  iteration:  59\n",
      "Cost:  [0.19606661]  iteration:  60\n",
      "Cost:  [0.19347456]  iteration:  61\n",
      "Cost:  [0.19096261]  iteration:  62\n",
      "Cost:  [0.18852772]  iteration:  63\n",
      "Cost:  [0.18616702]  iteration:  64\n",
      "Cost:  [0.18387777]  iteration:  65\n",
      "Cost:  [0.18165739]  iteration:  66\n",
      "Cost:  [0.17950339]  iteration:  67\n",
      "Cost:  [0.17741342]  iteration:  68\n",
      "Cost:  [0.17538524]  iteration:  69\n",
      "Cost:  [0.17341671]  iteration:  70\n",
      "Cost:  [0.17150578]  iteration:  71\n",
      "Cost:  [0.1696505]  iteration:  72\n",
      "Cost:  [0.167849]  iteration:  73\n",
      "Cost:  [0.16609949]  iteration:  74\n",
      "Cost:  [0.16440027]  iteration:  75\n",
      "Cost:  [0.16274969]  iteration:  76\n",
      "Cost:  [0.16114618]  iteration:  77\n",
      "Cost:  [0.15958823]  iteration:  78\n",
      "Cost:  [0.15807438]  iteration:  79\n",
      "Cost:  [0.15660326]  iteration:  80\n",
      "Cost:  [0.15517351]  iteration:  81\n",
      "Cost:  [0.15378385]  iteration:  82\n",
      "Cost:  [0.15243304]  iteration:  83\n",
      "Cost:  [0.15111988]  iteration:  84\n",
      "Cost:  [0.14984323]  iteration:  85\n",
      "Cost:  [0.14860197]  iteration:  86\n",
      "Cost:  [0.14739504]  iteration:  87\n",
      "Cost:  [0.1462214]  iteration:  88\n",
      "Cost:  [0.14508007]  iteration:  89\n",
      "Cost:  [0.14397007]  iteration:  90\n",
      "Cost:  [0.14289047]  iteration:  91\n",
      "Cost:  [0.14184039]  iteration:  92\n",
      "Cost:  [0.14081895]  iteration:  93\n",
      "Cost:  [0.13982532]  iteration:  94\n",
      "Cost:  [0.13885867]  iteration:  95\n",
      "Cost:  [0.13791824]  iteration:  96\n",
      "Cost:  [0.13700325]  iteration:  97\n",
      "Cost:  [0.13611297]  iteration:  98\n",
      "Cost:  [0.13524669]  iteration:  99\n",
      "[[0.63382536]\n",
      " [0.14246009]\n",
      " [0.88551939]]\n"
     ]
    },
    {
     "ename": "AttributeError",
     "evalue": "module 'matplotlib' has no attribute 'plot'",
     "output_type": "error",
     "traceback": [
      "\u001b[1;31m---------------------------------------------------------------------------\u001b[0m",
      "\u001b[1;31mAttributeError\u001b[0m                            Traceback (most recent call last)",
      "\u001b[1;32m<ipython-input-10-3832feb778b5>\u001b[0m in \u001b[0;36m<module>\u001b[1;34m\u001b[0m\n\u001b[0;32m     27\u001b[0m \u001b[1;33m\u001b[0m\u001b[0m\n\u001b[0;32m     28\u001b[0m \u001b[0mprint\u001b[0m\u001b[1;33m(\u001b[0m\u001b[0mw\u001b[0m\u001b[1;33m)\u001b[0m\u001b[1;33m\u001b[0m\u001b[1;33m\u001b[0m\u001b[0m\n\u001b[1;32m---> 29\u001b[1;33m \u001b[0mplt\u001b[0m\u001b[1;33m.\u001b[0m\u001b[0mplot\u001b[0m\u001b[1;33m(\u001b[0m\u001b[0mcost_hist1\u001b[0m\u001b[1;33m)\u001b[0m\u001b[1;33m\u001b[0m\u001b[1;33m\u001b[0m\u001b[0m\n\u001b[0m",
      "\u001b[1;31mAttributeError\u001b[0m: module 'matplotlib' has no attribute 'plot'"
     ]
    }
   ],
   "source": [
    "np.random.seed(5)\n",
    "#Multi dimensional array- assignment 2\n",
    "x=np.array([[2,4],[5,6],[7,8]])\n",
    "y=np.array([5,6,9]).reshape(-1,1)\n",
    "epoch=100\n",
    "cost_hist=[]\n",
    "m=x.shape[0]\n",
    "nx=x.shape[1]\n",
    "x=np.concatenate((np.ones((m,1)),x),axis=1)\n",
    "w=np.random.rand(nx+1,1)\n",
    "#print(w)\n",
    "lr=0.01\n",
    "for i in range(epoch):\n",
    "   \n",
    "    h=np.dot(x,w)\n",
    "   # print(h)\n",
    "    error=h-y\n",
    "    cost=(1/(2*m))*(sum((error)**2))\n",
    "    #print(cost)\n",
    "    dw=np.dot(x.T,error)\n",
    "   # print(dw)\n",
    "    w=w-lr*dw\n",
    "    \n",
    "    cost_hist1=cost_hist.append(cost)\n",
    "    \n",
    "    print(\"Cost: \",cost, \" iteration: \", i)\n",
    "    \n",
    "print(w)"
   ]
  },
  {
   "cell_type": "code",
   "execution_count": 16,
   "id": "7170ad7e",
   "metadata": {},
   "outputs": [],
   "source": [
    "import sklearn.linear_model as lm"
   ]
  },
  {
   "cell_type": "code",
   "execution_count": 17,
   "id": "b677168d",
   "metadata": {},
   "outputs": [
    {
     "name": "stdout",
     "output_type": "stream",
     "text": [
      "[-5.]\n",
      "[[ 0.  -2.   3.5]]\n"
     ]
    }
   ],
   "source": [
    "reg=lm.LinearRegression()\n",
    "reg.fit(x,y)\n",
    "print(reg.intercept_)\n",
    "print(reg.coef_)"
   ]
  },
  {
   "cell_type": "code",
   "execution_count": 1,
   "id": "95e846e2",
   "metadata": {},
   "outputs": [],
   "source": [
    "#Assignment 2 create your own gradient descent function for any number of features."
   ]
  },
  {
   "cell_type": "code",
   "execution_count": 1,
   "id": "3c9d3606",
   "metadata": {},
   "outputs": [],
   "source": [
    "import numpy as np\n",
    "import pandas as pd\n",
    "import matplotlib as plt"
   ]
  },
  {
   "cell_type": "code",
   "execution_count": 9,
   "id": "368f531d",
   "metadata": {},
   "outputs": [
    {
     "name": "stdout",
     "output_type": "stream",
     "text": [
      "Cost , [380.94091583] Iteration , 0\n",
      "Cost , [1321.96326655] Iteration , 1\n",
      "Cost , [4588.12968541] Iteration , 2\n",
      "Cost , [15924.54992592] Iteration , 3\n",
      "Cost , [55271.70685858] Iteration , 4\n",
      "Cost , [191840.26382005] Iteration , 5\n",
      "Cost , [665850.87896513] Iteration , 6\n",
      "Cost , [2311076.29511837] Iteration , 7\n",
      "Cost , [8021426.60316139] Iteration , 8\n",
      "Cost , [27841264.23418009] Iteration , 9\n",
      "Cost , [96633184.59666601] Iteration , 10\n",
      "Cost , [3.35400444e+08] Iteration , 11\n",
      "Cost , [1.16412864e+09] Iteration , 12\n",
      "Cost , [4.0405298e+09] Iteration , 13\n",
      "Cost , [1.40241212e+10] Iteration , 14\n",
      "Cost , [4.86757886e+10] Iteration , 15\n",
      "Cost , [1.68946943e+11] Iteration , 16\n",
      "Cost , [5.86391515e+11] Iteration , 17\n",
      "Cost , [2.035284e+12] Iteration , 18\n",
      "Cost , [7.0641898e+12] Iteration , 19\n",
      "Cost , [2.45188276e+13] Iteration , 20\n",
      "Cost , [8.51014659e+13] Iteration , 21\n",
      "Cost , [2.9537544e+14] Iteration , 22\n",
      "Cost , [1.02520738e+15] Iteration , 23\n",
      "Cost , [3.55835328e+15] Iteration , 24\n",
      "Cost , [1.2350553e+16] Iteration , 25\n",
      "Cost , [4.28670646e+16] Iteration , 26\n",
      "Cost , [1.48785663e+17] Iteration , 27\n",
      "Cost , [5.16414498e+17] Iteration , 28\n",
      "Cost , [1.79240343e+18] Iteration , 29\n",
      "Cost , [6.22118489e+18] Iteration , 30\n",
      "Cost , [2.15928739e+19] Iteration , 31\n",
      "Cost , [7.49458846e+19] Iteration , 32\n",
      "Cost , [2.60126819e+20] Iteration , 33\n",
      "Cost , [9.02864281e+20] Iteration , 34\n",
      "Cost , [3.13371728e+21] Iteration , 35\n",
      "Cost , [1.08767001e+22] Iteration , 36\n",
      "Cost , [3.77515245e+22] Iteration , 37\n",
      "Cost , [1.3103033e+23] Iteration , 38\n",
      "Cost , [4.54788187e+23] Iteration , 39\n",
      "Cost , [1.57850702e+24] Iteration , 40\n",
      "Cost , [5.47877995e+24] Iteration , 41\n",
      "Cost , [1.90160889e+25] Iteration , 42\n",
      "Cost , [6.60022193e+25] Iteration , 43\n",
      "Cost , [2.29084592e+26] Iteration , 44\n",
      "Cost , [7.95120994e+26] Iteration , 45\n",
      "Cost , [2.75975521e+27] Iteration , 46\n",
      "Cost , [9.57872935e+27] Iteration , 47\n",
      "Cost , [3.32464473e+28] Iteration , 48\n",
      "Cost , [1.15393829e+29] Iteration , 49\n",
      "Cost , [4.0051605e+29] Iteration , 50\n",
      "Cost , [1.39013592e+30] Iteration , 51\n",
      "Cost , [4.82496988e+30] Iteration , 52\n",
      "Cost , [1.67468044e+31] Iteration , 53\n",
      "Cost , [5.81258462e+31] Iteration , 54\n",
      "Cost , [2.01746788e+32] Iteration , 55\n",
      "Cost , [7.0023525e+32] Iteration , 56\n",
      "Cost , [2.43041989e+33] Iteration , 57\n",
      "Cost , [8.43565192e+33] Iteration , 58\n",
      "Cost , [2.92789833e+34] Iteration , 59\n",
      "Cost , [1.01623309e+35] Iteration , 60\n",
      "Cost , [3.52720478e+35] Iteration , 61\n",
      "Cost , [1.22424409e+36] Iteration , 62\n",
      "Cost , [4.24918222e+36] Iteration , 63\n",
      "Cost , [1.47483249e+37] Iteration , 64\n",
      "Cost , [5.11893998e+37] Iteration , 65\n",
      "Cost , [1.7767134e+38] Iteration , 66\n",
      "Cost , [6.16672694e+38] Iteration , 67\n",
      "Cost , [2.14038579e+39] Iteration , 68\n",
      "Cost , [7.42898361e+39] Iteration , 69\n",
      "Cost , [2.57849766e+40] Iteration , 70\n",
      "Cost , [8.94960942e+40] Iteration , 71\n",
      "Cost , [3.10628588e+41] Iteration , 72\n",
      "Cost , [1.07814895e+42] Iteration , 73\n",
      "Cost , [3.74210617e+42] Iteration , 74\n",
      "Cost , [1.29883339e+43] Iteration , 75\n",
      "Cost , [4.5080714e+43] Iteration , 76\n",
      "Cost , [1.56468935e+44] Iteration , 77\n",
      "Cost , [5.43082074e+44] Iteration , 78\n",
      "Cost , [1.88496291e+45] Iteration , 79\n",
      "Cost , [6.54244604e+45] Iteration , 80\n",
      "Cost , [2.2707927e+46] Iteration , 81\n",
      "Cost , [7.881608e+46] Iteration , 82\n",
      "Cost , [2.73559733e+47] Iteration , 83\n",
      "Cost , [9.49488071e+47] Iteration , 84\n",
      "Cost , [3.29554202e+48] Iteration , 85\n",
      "Cost , [1.14383714e+49] Iteration , 86\n",
      "Cost , [3.97010082e+49] Iteration , 87\n",
      "Cost , [1.37796719e+50] Iteration , 88\n",
      "Cost , [4.78273388e+50] Iteration , 89\n",
      "Cost , [1.66002091e+51] Iteration , 90\n",
      "Cost , [5.76170341e+51] Iteration , 91\n",
      "Cost , [1.99980771e+52] Iteration , 92\n",
      "Cost , [6.94105651e+52] Iteration , 93\n",
      "Cost , [2.4091449e+53] Iteration , 94\n",
      "Cost , [8.36180936e+53] Iteration , 95\n",
      "Cost , [2.9022686e+54] Iteration , 96\n",
      "Cost , [1.00733737e+55] Iteration , 97\n",
      "Cost , [3.49632893e+55] Iteration , 98\n",
      "Cost , [1.21352751e+56] Iteration , 99\n",
      "[[9.15880960e+25]\n",
      " [4.72803182e+26]\n",
      " [5.64391278e+26]\n",
      " [6.55979374e+26]]\n"
     ]
    }
   ],
   "source": [
    "np.random.seed(5)\n",
    "X=np.array([[1,2,3],[4,5,6],[7,8,9]])\n",
    "Y=np.array([[1,2,3]]).reshape(-1,1)\n",
    "epoch=100\n",
    "cost_hist=[]\n",
    "m=X.shape[0]\n",
    "nx=X.shape[1]\n",
    "X=np.concatenate((np.ones((m,1)),X),axis=1)\n",
    "W=np.random.rand(nx+1,1)\n",
    "lr=0.01\n",
    "\n",
    "for i in range(epoch):\n",
    "    h=np.dot(X,W)\n",
    "    error=h-Y\n",
    "    J=(1/2*m)*sum((error)**2)\n",
    "    dJ=np.dot(X.T,error)\n",
    "    W=W-(lr*dJ)\n",
    "    cost_hist1=cost_hist.append(J)\n",
    "    print(\"Cost ,\",J,\"Iteration ,\",i)\n",
    "print(W)\n",
    "plt.plot(cost_hist)\n",
    "    \n",
    "\n"
   ]
  },
  {
   "cell_type": "code",
   "execution_count": 2,
   "id": "bf548cc3",
   "metadata": {},
   "outputs": [],
   "source": [
    "import numpy as np\n",
    "import pandas as pd\n",
    "import matplotlib as plt"
   ]
  },
  {
   "cell_type": "code",
   "execution_count": 18,
   "id": "0ec970bf",
   "metadata": {},
   "outputs": [
    {
     "name": "stdout",
     "output_type": "stream",
     "text": [
      "0.17711747214732707 0.6252052185578921\n"
     ]
    },
    {
     "data": {
      "text/plain": [
       "[<matplotlib.lines.Line2D at 0x237793f3d00>]"
      ]
     },
     "execution_count": 18,
     "metadata": {},
     "output_type": "execute_result"
    },
    {
     "data": {
      "image/png": "[encoded data removed]",
      "text/plain": [
       "<Figure size 432x288 with 1 Axes>"
      ]
     },
     "metadata": {
      "needs_background": "light"
     },
     "output_type": "display_data"
    }
   ],
   "source": [
    "#Linear Regression\n",
    "X=np.array([0,0.22,0.58,0.2,0.55,0.39,0.54,0.53,1,0.61]) #(m,nx)=(1,10)\n",
    "Y=np.array([0,0.22,0.24,0.33,0.37,0.44,0.44,0.57,0.93,1])#(1,m)=(1,10)\n",
    "theta0=0.35\n",
    "theta1=0.65\n",
    "lr=0.001\n",
    "epoch=3000\n",
    "cost_hist=[]\n",
    "for i in range(epoch):\n",
    "    m=float(len(X)) \n",
    "    h=theta0+theta1*X\n",
    "    cost=(1/2*m)*(sum(h-Y)**2)\n",
    "    dtheta0=(1/m)*sum(h-Y)\n",
    "    dtheta1=(1/m)*sum((h-y)*X)\n",
    "    theta0=theta0-(lr*dtheta0)\n",
    "    theta1=theta1-(lr*dtheta1)\n",
    "    cost_hist.append(cost)\n",
    "    cost_hist1=np.array(cost_hist)\n",
    "    \n",
    "    \n",
    "    \n",
    "print(theta0,theta1)\n",
    "plt.plot(cost_hist1)\n",
    "    \n",
    "    \n",
    "    "
   ]
  },
  {
   "cell_type": "code",
   "execution_count": 27,
   "id": "f90610d8",
   "metadata": {},
   "outputs": [],
   "source": [
    "#Creating its function\n",
    "theta0=0.35\n",
    "theta1=0.65\n",
    "m=float(len(X))\n",
    "cost_hist=[]\n",
    "def GD(X,Y,lr=0.001,epoch=3000):\n",
    "    for i in range(epoch):\n",
    "   \n",
    "        h=theta0+theta1*X\n",
    "        cost=(1/2*m)*(sum(h-Y)**2)\n",
    "        dtheta0=(1/m)*sum(h-Y)\n",
    "        dtheta1=(1/m)*sum((h-y)*X)\n",
    "        theta0=theta0-(lr*dtheta0)\n",
    "        theta1=theta1-(lr*dtheta1)\n",
    "        cost_hist.append(cost)\n",
    "        cost_hist1=np.array(cost_hist)\n",
    "    return theta0,theta1\n",
    "    "
   ]
  },
  {
   "cell_type": "code",
   "execution_count": null,
   "id": "6a482aff",
   "metadata": {},
   "outputs": [],
   "source": []
  }
 ],
 "metadata": {
  "kernelspec": {
   "display_name": "Python 3",
   "language": "python",
   "name": "python3"
  },
  "language_info": {
   "codemirror_mode": {
    "name": "ipython",
    "version": 3
   },
   "file_extension": ".py",
   "mimetype": "text/x-python",
   "name": "python",
   "nbconvert_exporter": "python",
   "pygments_lexer": "ipython3",
   "version": "3.8.8"
  }
 },
 "nbformat": 4,
 "nbformat_minor": 5
}

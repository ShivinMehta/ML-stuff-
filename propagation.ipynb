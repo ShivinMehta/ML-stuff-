{
 "cells": [
  {
   "cell_type": "code",
   "execution_count": 23,
   "id": "5fd58d8a",
   "metadata": {},
   "outputs": [],
   "source": [
    "import numpy as np "
   ]
  },
  {
   "cell_type": "code",
   "execution_count": 24,
   "id": "38577891",
   "metadata": {},
   "outputs": [
    {
     "name": "stdout",
     "output_type": "stream",
     "text": [
      "[[ 1.62434536 -0.61175641 -0.52817175]\n",
      " [-1.07296862  0.86540763 -2.3015387 ]] [[ True False  True]]\n"
     ]
    }
   ],
   "source": [
    "np.random.seed(1)\n",
    "X=np.random.randn(2,3)\n",
    "Y= (np.random.randn(1,3)>0)\n",
    "print(X,Y)"
   ]
  },
  {
   "cell_type": "code",
   "execution_count": 25,
   "id": "7e92fa0c",
   "metadata": {},
   "outputs": [],
   "source": [
    "## sigmoid \n",
    "def sig(Z):\n",
    "    s=1/(1+np.exp(-Z))\n",
    "    return s "
   ]
  },
  {
   "cell_type": "code",
   "execution_count": 26,
   "id": "d3edb26b",
   "metadata": {},
   "outputs": [
    {
     "data": {
      "text/plain": [
       "0.7310585786300049"
      ]
     },
     "execution_count": 26,
     "metadata": {},
     "output_type": "execute_result"
    }
   ],
   "source": [
    "sig(1)"
   ]
  },
  {
   "cell_type": "code",
   "execution_count": 27,
   "id": "a623515b",
   "metadata": {},
   "outputs": [],
   "source": [
    "## tanh function\n",
    "def tan(Z):\n",
    "    s=(np.exp(Z)-np.exp(-Z))/((np.exp(Z)+np.exp(-Z)))\n",
    "    return s"
   ]
  },
  {
   "cell_type": "code",
   "execution_count": 28,
   "id": "c14818b2",
   "metadata": {},
   "outputs": [
    {
     "data": {
      "text/plain": [
       "0.7615941559557649"
      ]
     },
     "execution_count": 28,
     "metadata": {},
     "output_type": "execute_result"
    }
   ],
   "source": [
    "np.tanh(1)"
   ]
  },
  {
   "cell_type": "code",
   "execution_count": 29,
   "id": "eb1da976",
   "metadata": {},
   "outputs": [
    {
     "data": {
      "text/plain": [
       "0.7615941559557649"
      ]
     },
     "execution_count": 29,
     "metadata": {},
     "output_type": "execute_result"
    }
   ],
   "source": [
    "tan(1)"
   ]
  },
  {
   "cell_type": "code",
   "execution_count": 30,
   "id": "31439758",
   "metadata": {},
   "outputs": [],
   "source": [
    "## relu function \n",
    "def relu(Z):\n",
    "    s=np.maximum(0,Z)\n",
    "    return s "
   ]
  },
  {
   "cell_type": "code",
   "execution_count": 31,
   "id": "12572229",
   "metadata": {},
   "outputs": [
    {
     "data": {
      "text/plain": [
       "array([2, 0, 5])"
      ]
     },
     "execution_count": 31,
     "metadata": {},
     "output_type": "execute_result"
    }
   ],
   "source": [
    "k = np.array([2,-3,5])\n",
    "relu(k) "
   ]
  },
  {
   "cell_type": "code",
   "execution_count": 32,
   "id": "162118a7",
   "metadata": {},
   "outputs": [],
   "source": [
    "## leacky relu \n",
    "def lrelu(Z):\n",
    "    s=np.maximum(0.01,Z)\n",
    "    return s"
   ]
  },
  {
   "cell_type": "code",
   "execution_count": 33,
   "id": "f0aedc94",
   "metadata": {},
   "outputs": [
    {
     "data": {
      "text/plain": [
       "array([2.  , 0.01, 5.  ])"
      ]
     },
     "execution_count": 33,
     "metadata": {},
     "output_type": "execute_result"
    }
   ],
   "source": [
    "lrelu(k)"
   ]
  },
  {
   "cell_type": "code",
   "execution_count": 34,
   "id": "4ef66a56",
   "metadata": {},
   "outputs": [],
   "source": [
    "def shape(X,Y):\n",
    "    n_x=X.shape[0]\n",
    "    n_h=4\n",
    "    n_y=Y.shape[0]\n",
    "    \n",
    "    return(n_x,n_h,n_y)"
   ]
  },
  {
   "cell_type": "code",
   "execution_count": 35,
   "id": "7b8b6c81",
   "metadata": {},
   "outputs": [],
   "source": [
    "n_x,n_h,n_y=shape(X,Y)"
   ]
  },
  {
   "cell_type": "code",
   "execution_count": 36,
   "id": "9cd220a0",
   "metadata": {},
   "outputs": [],
   "source": [
    "def int_parameters(n_x,n_h,n_y):\n",
    "    np.random.seed(2)\n",
    "    W1=np.random.randn(n_h,n_x)*0.01\n",
    "    b1=np.random.randn(n_h,1)\n",
    "    W2=np.random.randn(1,n_h)*0.01\n",
    "    b2=np.random.randn(n_y,1)\n",
    "    \n",
    "    parameters ={\"W1\":W1,\"b1\":b1,\"W2\":W2,\"b2\":b2}\n",
    "    \n",
    "    return parameters "
   ]
  },
  {
   "cell_type": "code",
   "execution_count": 37,
   "id": "78080c0a",
   "metadata": {},
   "outputs": [],
   "source": [
    "parameters=int_parameters(n_x,n_h,n_y)"
   ]
  },
  {
   "cell_type": "code",
   "execution_count": 38,
   "id": "1fc5341b",
   "metadata": {},
   "outputs": [
    {
     "data": {
      "text/plain": [
       "array([[-0.00416758, -0.00056267],\n",
       "       [-0.02136196,  0.01640271],\n",
       "       [-0.01793436, -0.00841747],\n",
       "       [ 0.00502881, -0.01245288]])"
      ]
     },
     "execution_count": 38,
     "metadata": {},
     "output_type": "execute_result"
    }
   ],
   "source": [
    "parameters[\"W1\"]"
   ]
  },
  {
   "cell_type": "code",
   "execution_count": 39,
   "id": "8c460972",
   "metadata": {},
   "outputs": [],
   "source": [
    "def ForwardPropagation(X,parameters):\n",
    "    W1=parameters[\"W1\"]\n",
    "    b1=parameters[\"b1\"]\n",
    "    W2=parameters[\"W2\"]\n",
    "    b2=parameters[\"b2\"]\n",
    "    \n",
    "    Z1=np.dot(W1,X)+b1\n",
    "    A1=tan(Z1)\n",
    "    Z2=np.dot(W2,A1)+b2\n",
    "    A2=sig(Z2)\n",
    "    \n",
    "    catch={\"Z1\":Z2,\"A1\":A1,\"Z2\":Z2,\"A2\":A2}\n",
    "    \n",
    "    return A2,catch\n",
    "    "
   ]
  },
  {
   "cell_type": "code",
   "execution_count": 40,
   "id": "963dc7eb",
   "metadata": {},
   "outputs": [],
   "source": [
    "A2,catch=ForwardPropagation(X,parameters)"
   ]
  },
  {
   "cell_type": "code",
   "execution_count": 41,
   "id": "55489e6b",
   "metadata": {},
   "outputs": [],
   "source": [
    "def compute_cost(A2,Y):\n",
    "    m=Y.shape[1]\n",
    "    logp=np.multiply(Y,np.log(A2))+np.multiply((1-Y),np.log(1-A2))\n",
    "    cost=-np.sum(logp)/m\n",
    "    return cost"
   ]
  },
  {
   "cell_type": "code",
   "execution_count": 42,
   "id": "5422ef7b",
   "metadata": {},
   "outputs": [
    {
     "data": {
      "text/plain": [
       "0.6955024061016157"
      ]
     },
     "execution_count": 42,
     "metadata": {},
     "output_type": "execute_result"
    }
   ],
   "source": [
    "compute_cost(A2,Y)"
   ]
  },
  {
   "cell_type": "code",
   "execution_count": 58,
   "id": "d008a4b5",
   "metadata": {},
   "outputs": [],
   "source": [
    "def BackwardPropagation(parameters,catch,X,Y):\n",
    "    W1=parameters[\"W1\"]\n",
    "    b1=parameters[\"b1\"]\n",
    "    W2=parameters[\"W2\"]\n",
    "    b2=parameters[\"b2\"]\n",
    "    A1=catch[\"A1\"]\n",
    "    A2=catch[\"A2\"]\n",
    "    \n",
    "    m= Y.shape[1]\n",
    "    \n",
    "    dZ2=A2-Y\n",
    "    dW2=np.dot(dZ2,A1.T)/m\n",
    "    db2=np.sum(dZ2,axis=1,keepdims=True)/m\n",
    "    dZ1=np.dot(W2.T,dZ2)*(1-A2**2)\n",
    "    dW1=np.dot(dZ1,X.T)/m\n",
    "    db1=np.sum(dZ1,axis=1,keepdims=True)/m\n",
    "    \n",
    "    grade={\"dW1\":dW1,\"db1\":db1,\"dW1\":dW1,\"db2\":db2}\n",
    "    \n",
    "    return grade\n",
    "    "
   ]
  },
  {
   "cell_type": "code",
   "execution_count": 60,
   "id": "19e54130",
   "metadata": {},
   "outputs": [
    {
     "ename": "NameError",
     "evalue": "name 'grade' is not defined",
     "output_type": "error",
     "traceback": [
      "\u001b[1;31m---------------------------------------------------------------------------\u001b[0m",
      "\u001b[1;31mNameError\u001b[0m                                 Traceback (most recent call last)",
      "\u001b[1;32mC:\\Users\\MPSTME~1.STU\\AppData\\Local\\Temp/ipykernel_5200/3886118911.py\u001b[0m in \u001b[0;36m<module>\u001b[1;34m\u001b[0m\n\u001b[1;32m----> 1\u001b[1;33m \u001b[0mgrade\u001b[0m\u001b[1;33m\u001b[0m\u001b[1;33m\u001b[0m\u001b[0m\n\u001b[0m",
      "\u001b[1;31mNameError\u001b[0m: name 'grade' is not defined"
     ]
    }
   ],
   "source": [
    "grade"
   ]
  },
  {
   "cell_type": "code",
   "execution_count": 44,
   "id": "b434a034",
   "metadata": {},
   "outputs": [
    {
     "data": {
      "text/plain": [
       "{'dW1': array([[-8.92869471e-05,  2.22134454e-04],\n",
       "        [ 2.40292751e-03, -5.97817495e-03],\n",
       "        [-1.15868019e-03,  2.88264746e-03],\n",
       "        [ 1.28141689e-03, -3.18800059e-03]]),\n",
       " 'db1': array([[-5.32950994e-05],\n",
       "        [ 1.43429991e-03],\n",
       "        [-6.91612580e-04],\n",
       "        [ 7.64873730e-04]]),\n",
       " 'db2': array([[-0.17027588]])}"
      ]
     },
     "execution_count": 44,
     "metadata": {},
     "output_type": "execute_result"
    }
   ],
   "source": [
    "BackwardPropagation(parameters,catch,X,Y)"
   ]
  },
  {
   "cell_type": "code",
   "execution_count": 56,
   "id": "6752a8d6",
   "metadata": {},
   "outputs": [],
   "source": [
    "def update(parameters,grade,lr=0.01):\n",
    "    W1=parameters[\"W1\"]\n",
    "    b1=parameters[\"b1\"]\n",
    "    W2=parameters[\"W2\"]\n",
    "    b2=parameters[\"b2\"]\n",
    "    \n",
    "    dW1=grade[\"dW1\"]\n",
    "    db1=grade[\"db1\"]\n",
    "    dW2=grade[\"dW2\"]\n",
    "    db2=grade[\"db2\"]\n",
    "    \n",
    "    W1=W1-lr*dW1\n",
    "    b1=b1-lr*db1\n",
    "    W2=W2-lr*dW2\n",
    "    b2=b2-lr*db2\n",
    "    \n",
    "    parameters={\"W1\":W1,\"db1\":db2,\"dW2\":dW2,\"db2\":db2}\n",
    "    return parameters\n",
    "    "
   ]
  },
  {
   "cell_type": "code",
   "execution_count": 57,
   "id": "6255ee20",
   "metadata": {},
   "outputs": [
    {
     "ename": "NameError",
     "evalue": "name 'grade' is not defined",
     "output_type": "error",
     "traceback": [
      "\u001b[1;31m---------------------------------------------------------------------------\u001b[0m",
      "\u001b[1;31mNameError\u001b[0m                                 Traceback (most recent call last)",
      "\u001b[1;32mC:\\Users\\MPSTME~1.STU\\AppData\\Local\\Temp/ipykernel_5200/4279815266.py\u001b[0m in \u001b[0;36m<module>\u001b[1;34m\u001b[0m\n\u001b[1;32m----> 1\u001b[1;33m \u001b[0mupdate\u001b[0m\u001b[1;33m(\u001b[0m\u001b[0mparameters\u001b[0m\u001b[1;33m,\u001b[0m\u001b[0mgrade\u001b[0m\u001b[1;33m,\u001b[0m\u001b[0mlr\u001b[0m\u001b[1;33m=\u001b[0m\u001b[1;36m0.01\u001b[0m\u001b[1;33m)\u001b[0m\u001b[1;33m\u001b[0m\u001b[1;33m\u001b[0m\u001b[0m\n\u001b[0m",
      "\u001b[1;31mNameError\u001b[0m: name 'grade' is not defined"
     ]
    }
   ],
   "source": [
    "update(parameters,grade,lr=0.01)"
   ]
  },
  {
   "cell_type": "code",
   "execution_count": null,
   "id": "abee38b1",
   "metadata": {},
   "outputs": [],
   "source": []
  }
 ],
 "metadata": {
  "kernelspec": {
   "display_name": "Python 3 (ipykernel)",
   "language": "python",
   "name": "python3"
  },
  "language_info": {
   "codemirror_mode": {
    "name": "ipython",
    "version": 3
   },
   "file_extension": ".py",
   "mimetype": "text/x-python",
   "name": "python",
   "nbconvert_exporter": "python",
   "pygments_lexer": "ipython3",
   "version": "3.9.7"
  }
 },
 "nbformat": 4,
 "nbformat_minor": 5
}

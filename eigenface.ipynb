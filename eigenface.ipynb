{
  "nbformat": 4,
  "nbformat_minor": 0,
  "metadata": {
    "colab": {
      "provenance": []
    },
    "kernelspec": {
      "name": "python3",
      "display_name": "Python 3"
    },
    "language_info": {
      "name": "python"
    }
  },
  "cells": [
    {
      "cell_type": "code",
      "execution_count": null,
      "metadata": {
        "colab": {
          "base_uri": "https://localhost:8080/"
        },
        "id": "fvTNOACKLeHb",
        "outputId": "7fa8f9b6-e2dd-4136-d674-5839628fa8da"
      },
      "outputs": [
        {
          "output_type": "stream",
          "name": "stdout",
          "text": [
            "downloading Olivetti faces from https://ndownloader.figshare.com/files/5976027 to /root/scikit_learn_data\n"
          ]
        },
        {
          "output_type": "execute_result",
          "data": {
            "text/plain": [
              "(400, 4096)"
            ]
          },
          "metadata": {},
          "execution_count": 1
        }
      ],
      "source": [
        "from sklearn import  datasets \n",
        "faces = datasets.fetch_olivetti_faces()\n",
        "faces.data.shape"
      ]
    },
    {
      "cell_type": "code",
      "source": [
        "from sklearn.model_selection import train_test_split \n",
        "X_train , X_test , y_train , y_test = train_test_split(faces.data, faces.target, random_state=0) #random_state = can be any , 0 because it is randomised "
      ],
      "metadata": {
        "id": "mf2H5W5ELqL_"
      },
      "execution_count": null,
      "outputs": []
    },
    {
      "cell_type": "code",
      "source": [
        "from matplotlib import pyplot as plt"
      ],
      "metadata": {
        "id": "SNXIU8sCM1mC"
      },
      "execution_count": null,
      "outputs": []
    },
    {
      "cell_type": "code",
      "source": [
        "plt.imshow(faces.images[1],cmap=plt.cm.bone) #images[] can be changed to any number "
      ],
      "metadata": {
        "colab": {
          "base_uri": "https://localhost:8080/",
          "height": 285
        },
        "id": "UJWoRYdsNkmR",
        "outputId": "4cfb89e6-3a92-4dcf-c6af-d1108fb6f30f"
      },
      "execution_count": null,
      "outputs": [
        {
          "output_type": "execute_result",
          "data": {
            "text/plain": [
              "<matplotlib.image.AxesImage at 0x7fe7fae8cd10>"
            ]
          },
          "metadata": {},
          "execution_count": 23
        },
        {
          "output_type": "display_data",
          "data": {
            "text/plain": [
              "<Figure size 432x288 with 1 Axes>"
            ],
            "image/png": "[encoded data removed]"
          },
          "metadata": {
            "needs_background": "light"
          }
        }
      ]
    },
    {
      "cell_type": "code",
      "source": [
        "from sklearn.decomposition import PCA\n",
        "pca1 = PCA(0.60) #can be changed , if left blank i.e 100%\n",
        "pca1.fit(X_train)"
      ],
      "metadata": {
        "colab": {
          "base_uri": "https://localhost:8080/"
        },
        "id": "mkL-1jFdODdq",
        "outputId": "cef80164-74ac-463d-de02-5d9e47926b3f"
      },
      "execution_count": null,
      "outputs": [
        {
          "output_type": "execute_result",
          "data": {
            "text/plain": [
              "PCA(n_components=0.6)"
            ]
          },
          "metadata": {},
          "execution_count": 39
        }
      ]
    },
    {
      "cell_type": "code",
      "source": [
        "print(pca1.components_.shape)"
      ],
      "metadata": {
        "colab": {
          "base_uri": "https://localhost:8080/"
        },
        "id": "fhVi_D0iOe-j",
        "outputId": "6088699f-e6fe-45c9-a422-9fcd94a05061"
      },
      "execution_count": null,
      "outputs": [
        {
          "output_type": "stream",
          "name": "stdout",
          "text": [
            "(8, 4096)\n"
          ]
        }
      ]
    },
    {
      "cell_type": "code",
      "source": [
        "import numpy as np "
      ],
      "metadata": {
        "id": "gWNsTkUXPFH5"
      },
      "execution_count": null,
      "outputs": []
    },
    {
      "cell_type": "code",
      "source": [
        "plt.plot(np.cumsum(pca1.explained_variance_ratio_))"
      ],
      "metadata": {
        "colab": {
          "base_uri": "https://localhost:8080/",
          "height": 282
        },
        "id": "5aUgBuCRPhSZ",
        "outputId": "3bff63b2-8be0-4ae2-9488-0d3a3da9a126"
      },
      "execution_count": null,
      "outputs": [
        {
          "output_type": "execute_result",
          "data": {
            "text/plain": [
              "[<matplotlib.lines.Line2D at 0x7fe7faca6990>]"
            ]
          },
          "metadata": {},
          "execution_count": 42
        },
        {
          "output_type": "display_data",
          "data": {
            "text/plain": [
              "<Figure size 432x288 with 1 Axes>"
            ],
            "image/png": "[encoded data removed]"
          },
          "metadata": {
            "needs_background": "light"
          }
        }
      ]
    },
    {
      "cell_type": "code",
      "source": [
        "print(pca1.explained_variance_ratio_)"
      ],
      "metadata": {
        "colab": {
          "base_uri": "https://localhost:8080/"
        },
        "id": "NiEcoaQ8Pqxm",
        "outputId": "15b69fef-25c3-42c7-d600-506d07d1030d"
      },
      "execution_count": null,
      "outputs": [
        {
          "output_type": "stream",
          "name": "stdout",
          "text": [
            "[0.2285862  0.14473368 0.08096652 0.04927511 0.03675293 0.03238796\n",
            " 0.02611594 0.02096577]\n"
          ]
        }
      ]
    },
    {
      "cell_type": "code",
      "source": [
        "plt.imshow(pca1.components_[5].reshape(64,64), cmap = plt.cm.bone)"
      ],
      "metadata": {
        "colab": {
          "base_uri": "https://localhost:8080/",
          "height": 285
        },
        "id": "Rijnqbq0PyCe",
        "outputId": "f55f880b-23e4-437b-ecd6-d5bde83828ca"
      },
      "execution_count": null,
      "outputs": [
        {
          "output_type": "execute_result",
          "data": {
            "text/plain": [
              "<matplotlib.image.AxesImage at 0x7fe7fac1bc90>"
            ]
          },
          "metadata": {},
          "execution_count": 44
        },
        {
          "output_type": "display_data",
          "data": {
            "text/plain": [
              "<Figure size 432x288 with 1 Axes>"
            ],
            "image/png": "[encoded data removed]"
          },
          "metadata": {
            "needs_background": "light"
          }
        }
      ]
    },
    {
      "cell_type": "code",
      "source": [
        "projected = pca1.fit_transform(X_train)\n",
        "projected"
      ],
      "metadata": {
        "colab": {
          "base_uri": "https://localhost:8080/"
        },
        "id": "y6SJ5alFQz51",
        "outputId": "fd509cab-2424-462d-ae39-159b9977b528"
      },
      "execution_count": null,
      "outputs": [
        {
          "output_type": "execute_result",
          "data": {
            "text/plain": [
              "array([[ 1.8219901 , -1.4103645 ,  4.620362  , ..., -1.9647946 ,\n",
              "         0.10365265, -0.6984052 ],\n",
              "       [-3.7618158 ,  2.7382047 ,  0.17039475, ..., -0.66657007,\n",
              "         1.7348847 , -0.75020254],\n",
              "       [-1.1822696 , -4.0308075 , -0.48141077, ..., -2.1305144 ,\n",
              "         2.1990812 ,  0.2348188 ],\n",
              "       ...,\n",
              "       [-2.5138772 , -1.9909947 ,  5.6086245 , ..., -1.8951921 ,\n",
              "         0.8064007 ,  0.44322112],\n",
              "       [-2.0361717 ,  3.39007   ,  2.1229928 , ..., -2.3382    ,\n",
              "         0.27816904,  0.01207342],\n",
              "       [-4.0941787 ,  2.1236084 , -0.32601097, ...,  1.0376498 ,\n",
              "         0.04501048,  0.9465036 ]], dtype=float32)"
            ]
          },
          "metadata": {},
          "execution_count": 45
        }
      ]
    },
    {
      "cell_type": "code",
      "source": [
        "projected_value = np.dot(projected,pca1.components_)\n",
        "projected_value"
      ],
      "metadata": {
        "colab": {
          "base_uri": "https://localhost:8080/"
        },
        "id": "qjFsRIOuR4kF",
        "outputId": "c9db30d7-d8de-406c-efdd-9a797834ded1"
      },
      "execution_count": null,
      "outputs": [
        {
          "output_type": "execute_result",
          "data": {
            "text/plain": [
              "array([[ 0.01983746,  0.01559378,  0.0494604 , ..., -0.11540812,\n",
              "        -0.09208894, -0.07001159],\n",
              "       [-0.10693732, -0.08626705, -0.04304396, ...,  0.00318079,\n",
              "        -0.01497762, -0.00753915],\n",
              "       [-0.02143208,  0.02314259,  0.10271165, ..., -0.22542244,\n",
              "        -0.22226694, -0.19996497],\n",
              "       ...,\n",
              "       [ 0.06095363,  0.06228246,  0.06623319, ..., -0.04970853,\n",
              "        -0.04424486, -0.02139355],\n",
              "       [-0.0650269 , -0.08131616, -0.10159567, ...,  0.21011482,\n",
              "         0.1949248 ,  0.20053001],\n",
              "       [ 0.02407172,  0.0254032 ,  0.00476038, ...,  0.09505245,\n",
              "         0.07145235,  0.06578322]], dtype=float32)"
            ]
          },
          "metadata": {},
          "execution_count": 48
        }
      ]
    },
    {
      "cell_type": "code",
      "source": [
        "projected_value.shape"
      ],
      "metadata": {
        "colab": {
          "base_uri": "https://localhost:8080/"
        },
        "id": "VmcX9u-BWCpT",
        "outputId": "5303308e-fcce-45c5-e665-3ec4b7cd92dd"
      },
      "execution_count": null,
      "outputs": [
        {
          "output_type": "execute_result",
          "data": {
            "text/plain": [
              "(300, 4096)"
            ]
          },
          "metadata": {},
          "execution_count": 49
        }
      ]
    },
    {
      "cell_type": "code",
      "source": [
        "plt.imshow(projected_value[5].reshape(64,64), cmap = plt.cm.bone)"
      ],
      "metadata": {
        "colab": {
          "base_uri": "https://localhost:8080/",
          "height": 285
        },
        "id": "8hT6bLBNWEHr",
        "outputId": "85b49bc8-7902-4d61-948f-435dc5eb16f6"
      },
      "execution_count": null,
      "outputs": [
        {
          "output_type": "execute_result",
          "data": {
            "text/plain": [
              "<matplotlib.image.AxesImage at 0x7fe7fae5b190>"
            ]
          },
          "metadata": {},
          "execution_count": 50
        },
        {
          "output_type": "display_data",
          "data": {
            "text/plain": [
              "<Figure size 432x288 with 1 Axes>"
            ],
            "image/png": "[encoded data removed]"
          },
          "metadata": {
            "needs_background": "light"
          }
        }
      ]
    },
    {
      "cell_type": "code",
      "source": [],
      "metadata": {
        "id": "yU1KspLUXFMv"
      },
      "execution_count": null,
      "outputs": []
    }
  ]
}
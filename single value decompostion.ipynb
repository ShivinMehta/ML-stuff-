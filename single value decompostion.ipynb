{
 "cells": [
  {
   "cell_type": "code",
   "execution_count": 1,
   "id": "3727c74b",
   "metadata": {},
   "outputs": [],
   "source": [
    "import numpy as np "
   ]
  },
  {
   "cell_type": "code",
   "execution_count": 10,
   "id": "eb2d13fe",
   "metadata": {},
   "outputs": [],
   "source": [
    "A = np.array(([1,2,3,5],[4,5,8,9],[12,5,7,11]))"
   ]
  },
  {
   "cell_type": "code",
   "execution_count": 11,
   "id": "5343795d",
   "metadata": {},
   "outputs": [
    {
     "data": {
      "text/plain": [
       "(3, 4)"
      ]
     },
     "execution_count": 11,
     "metadata": {},
     "output_type": "execute_result"
    }
   ],
   "source": [
    "A.shape"
   ]
  },
  {
   "cell_type": "code",
   "execution_count": 12,
   "id": "509d28c5",
   "metadata": {},
   "outputs": [],
   "source": [
    "u,o,vt= np.linalg.svd(A)"
   ]
  },
  {
   "cell_type": "code",
   "execution_count": 13,
   "id": "bb15e0b8",
   "metadata": {},
   "outputs": [
    {
     "data": {
      "text/plain": [
       "array([[-0.2495473 , -0.41518484,  0.87484152],\n",
       "       [-0.56943299, -0.66780371, -0.47935819],\n",
       "       [-0.78324467,  0.61778617,  0.06977134]])"
      ]
     },
     "execution_count": 13,
     "metadata": {},
     "output_type": "execute_result"
    }
   ],
   "source": [
    "u"
   ]
  },
  {
   "cell_type": "code",
   "execution_count": 14,
   "id": "223045eb",
   "metadata": {},
   "outputs": [
    {
     "data": {
      "text/plain": [
       "array([23.15131969,  5.16520824,  1.15629594])"
      ]
     },
     "execution_count": 14,
     "metadata": {},
     "output_type": "execute_result"
    }
   ],
   "source": [
    "o"
   ]
  },
  {
   "cell_type": "code",
   "execution_count": 15,
   "id": "2a09466e",
   "metadata": {},
   "outputs": [
    {
     "data": {
      "text/plain": [
       "array([[-0.51514192, -0.31369628, -0.46592672, -0.64740693],\n",
       "       [ 0.83772698, -0.20917984, -0.43821681, -0.24984661],\n",
       "       [-0.17758014, -0.25793674, -0.62435709,  0.71562012],\n",
       "       [ 0.03616075, -0.88955443,  0.44839329,  0.07955365]])"
      ]
     },
     "execution_count": 15,
     "metadata": {},
     "output_type": "execute_result"
    }
   ],
   "source": [
    "vt"
   ]
  },
  {
   "cell_type": "code",
   "execution_count": null,
   "id": "c3faa7c5",
   "metadata": {},
   "outputs": [],
   "source": []
  }
 ],
 "metadata": {
  "kernelspec": {
   "display_name": "Python 3 (ipykernel)",
   "language": "python",
   "name": "python3"
  },
  "language_info": {
   "codemirror_mode": {
    "name": "ipython",
    "version": 3
   },
   "file_extension": ".py",
   "mimetype": "text/x-python",
   "name": "python",
   "nbconvert_exporter": "python",
   "pygments_lexer": "ipython3",
   "version": "3.9.7"
  }
 },
 "nbformat": 4,
 "nbformat_minor": 5
}

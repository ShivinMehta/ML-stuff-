{
  "nbformat": 4,
  "nbformat_minor": 0,
  "metadata": {
    "colab": {
      "provenance": []
    },
    "kernelspec": {
      "name": "python3",
      "display_name": "Python 3"
    },
    "language_info": {
      "name": "python"
    }
  },
  "cells": [
    {
      "cell_type": "code",
      "execution_count": null,
      "metadata": {
        "id": "GWthXKy0Jwcx"
      },
      "outputs": [],
      "source": [
        "import numpy as np "
      ]
    },
    {
      "cell_type": "code",
      "source": [
        "from numpy import mean\n",
        "from numpy import cov \n",
        "from numpy.linalg import eig "
      ],
      "metadata": {
        "id": "CmrVlDhXJ1ZW"
      },
      "execution_count": null,
      "outputs": []
    },
    {
      "cell_type": "code",
      "source": [
        "from sklearn.decomposition import PCA "
      ],
      "metadata": {
        "id": "u6PforYOL6lz"
      },
      "execution_count": null,
      "outputs": []
    },
    {
      "cell_type": "code",
      "source": [
        "A = np.array ([[1,3], [1,2], [2,3], [0,3],[5,4],[4,5],[5,5],[3,4]])\n",
        "print(A)"
      ],
      "metadata": {
        "colab": {
          "base_uri": "https://localhost:8080/"
        },
        "id": "oEkAD2jiKCPP",
        "outputId": "29b562ce-13b1-476a-ac39-5ba6fb32e5a9"
      },
      "execution_count": null,
      "outputs": [
        {
          "output_type": "stream",
          "name": "stdout",
          "text": [
            "[[1 3]\n",
            " [1 2]\n",
            " [2 3]\n",
            " [0 3]\n",
            " [5 4]\n",
            " [4 5]\n",
            " [5 5]\n",
            " [3 4]]\n"
          ]
        }
      ]
    },
    {
      "cell_type": "code",
      "source": [
        "pca = PCA()"
      ],
      "metadata": {
        "id": "1bJu3IiSL2C8"
      },
      "execution_count": null,
      "outputs": []
    },
    {
      "cell_type": "code",
      "source": [
        "pca.fit(A)"
      ],
      "metadata": {
        "colab": {
          "base_uri": "https://localhost:8080/"
        },
        "id": "Lx8RvHPdMggC",
        "outputId": "57cab9c5-f3af-4d08-caca-ab9f9c03d72d"
      },
      "execution_count": null,
      "outputs": [
        {
          "output_type": "execute_result",
          "data": {
            "text/plain": [
              "PCA()"
            ]
          },
          "metadata": {},
          "execution_count": 18
        }
      ]
    },
    {
      "cell_type": "code",
      "source": [
        "print(pca.components_.T)"
      ],
      "metadata": {
        "colab": {
          "base_uri": "https://localhost:8080/"
        },
        "id": "kgkbL8IjMjCp",
        "outputId": "f0b02efc-7802-4d83-ee77-3c04aba0d404"
      },
      "execution_count": null,
      "outputs": [
        {
          "output_type": "stream",
          "name": "stdout",
          "text": [
            "[[ 0.89554989  0.44496113]\n",
            " [ 0.44496113 -0.89554989]]\n"
          ]
        }
      ]
    },
    {
      "cell_type": "code",
      "source": [
        "print(pca.explained_variance_)"
      ],
      "metadata": {
        "colab": {
          "base_uri": "https://localhost:8080/"
        },
        "id": "j4rAzREGMvZX",
        "outputId": "37a11ce1-7820-431d-d37c-962e5e8e5628"
      },
      "execution_count": null,
      "outputs": [
        {
          "output_type": "stream",
          "name": "stdout",
          "text": [
            "[4.53931268 0.28211589]\n"
          ]
        }
      ]
    },
    {
      "cell_type": "code",
      "source": [
        "B = pca.transform(A)\n",
        "B"
      ],
      "metadata": {
        "colab": {
          "base_uri": "https://localhost:8080/"
        },
        "id": "52QomGMJM6Zg",
        "outputId": "c36f2d12-91e2-4ea0-8593-18c56a312e3d"
      },
      "execution_count": null,
      "outputs": [
        {
          "output_type": "execute_result",
          "data": {
            "text/plain": [
              "array([[-1.73336927, -0.16334315],\n",
              "       [-2.17833039,  0.73220673],\n",
              "       [-0.83781938,  0.28161797],\n",
              "       [-2.62891915, -0.60830428],\n",
              "       [ 2.2937914 ,  0.72095147],\n",
              "       [ 1.84320264, -0.61955954],\n",
              "       [ 2.73875252, -0.17459842],\n",
              "       [ 0.50269163, -0.16897078]])"
            ]
          },
          "metadata": {},
          "execution_count": 21
        }
      ]
    },
    {
      "cell_type": "code",
      "source": [
        "print(pca.explained_variance_ratio_)"
      ],
      "metadata": {
        "colab": {
          "base_uri": "https://localhost:8080/"
        },
        "id": "9-8wuAebNl4Z",
        "outputId": "37cf469e-7fab-4f82-911e-8e3093291a1d"
      },
      "execution_count": null,
      "outputs": [
        {
          "output_type": "stream",
          "name": "stdout",
          "text": [
            "[0.94148707 0.05851293]\n"
          ]
        }
      ]
    },
    {
      "cell_type": "code",
      "source": [],
      "metadata": {
        "id": "tP6grlflOtrp"
      },
      "execution_count": null,
      "outputs": []
    }
  ]
}